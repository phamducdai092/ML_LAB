{
  "nbformat": 4,
  "nbformat_minor": 0,
  "metadata": {
    "colab": {
      "provenance": [],
      "include_colab_link": true
    },
    "kernelspec": {
      "name": "python3",
      "display_name": "Python 3"
    },
    "language_info": {
      "name": "python"
    }
  },
  "cells": [
    {
      "cell_type": "markdown",
      "metadata": {
        "id": "view-in-github",
        "colab_type": "text"
      },
      "source": [
        "<a href=\"https://colab.research.google.com/github/phamducdai092/ML_LAB/blob/main/Lab_7_21130304_PhamDucDai.ipynb\" target=\"_parent\"><img src=\"https://colab.research.google.com/assets/colab-badge.svg\" alt=\"Open In Colab\"/></a>"
      ]
    },
    {
      "cell_type": "markdown",
      "source": [
        "# This lab deals with **GridSearchCV** for tuning the hyper-parameters of an estimator and applying vectorization techniques to the **movie reviews dataset** for classification task.\n",
        "\n",
        "*   **Deadline: 23:59, 22/4/2024 (lớp TH thứ 3) || 29/4/2024 (lớp TH thứ 5)**\n",
        "\n"
      ],
      "metadata": {
        "id": "LMzehe0sy5wr"
      }
    },
    {
      "cell_type": "markdown",
      "source": [
        "# Import libraries"
      ],
      "metadata": {
        "id": "H4nJmxp9zGX4"
      }
    },
    {
      "cell_type": "code",
      "execution_count": null,
      "metadata": {
        "id": "DoVWQ8AEyc-C"
      },
      "outputs": [],
      "source": [
        "# code\n",
        "import pandas as pd\n",
        "import numpy as np\n",
        "import matplotlib.pyplot as plt\n",
        "from sklearn import datasets\n",
        "from sklearn.model_selection import train_test_split, GridSearchCV\n",
        "from sklearn import svm\n",
        "from sklearn.neighbors import KNeighborsClassifier\n",
        "from sklearn.ensemble import RandomForestClassifier\n",
        "from sklearn.linear_model import LinearRegression,LogisticRegression\n",
        "from sklearn.feature_selection import SelectKBest, chi2\n",
        "from prettytable import PrettyTable\n",
        "from sklearn import metrics"
      ]
    },
    {
      "cell_type": "markdown",
      "source": [
        "#Task 1. With **iris** dataset\n",
        "*  1.1. Apply **GridSearchCV** for **SVM** to find the best hyperparameters using the following param_grid.\n",
        "\n",
        "```\n",
        "param_grid = {'C': [0.1, 1, 10, 100, 1000],\n",
        "              'gamma': [1, 0.1, 0.01, 0.001, 0.0001],\n",
        "              'kernel': ['rbf','linear']}\n",
        "```\n",
        "\n",
        "\n"
      ],
      "metadata": {
        "id": "x_dG9SA5OhGT"
      }
    },
    {
      "cell_type": "code",
      "source": [
        "param_grid_svm = {'C': [0.1, 1, 10, 100, 1000],\n",
        "              'gamma': [1, 0.1, 0.01, 0.001, 0.0001],\n",
        "              'kernel': ['rbf','linear']}"
      ],
      "metadata": {
        "id": "cfzqmjgnPqzY"
      },
      "execution_count": null,
      "outputs": []
    },
    {
      "cell_type": "code",
      "source": [
        "\n",
        "iris_data = datasets.load_iris()\n",
        "\n",
        "X = iris_data.data\n",
        "y = iris_data.target\n",
        "\n",
        "X_train, X_test,y_train, y_test = train_test_split(X, y, test_size = 0.3);\n",
        "\n",
        "clf_SVC = svm.SVC()\n",
        "grid_search_svm = GridSearchCV(clf_SVC, param_grid_svm, cv=5, n_jobs=-1, verbose=1)\n",
        "grid_search_svm.fit(X_train, y_train);\n",
        "\n",
        "y_pred_svm = grid_search_svm.predict(X_test);\n",
        "accuracy_svm = metrics.accuracy_score(y_test, y_pred_svm);\n",
        "grid_search_svm_best_estimator = grid_search_svm.best_estimator_\n",
        "\n",
        "print(\"Best estimator svm: \", grid_search_svm_best_estimator)\n",
        "print(\"Accracy score: \", accuracy_svm)"
      ],
      "metadata": {
        "id": "62jExOZ952fF",
        "colab": {
          "base_uri": "https://localhost:8080/"
        },
        "outputId": "18f45ee0-d93d-4358-c385-82b2996b6030"
      },
      "execution_count": null,
      "outputs": [
        {
          "output_type": "stream",
          "name": "stdout",
          "text": [
            "Fitting 5 folds for each of 50 candidates, totalling 250 fits\n",
            "Best estimator svm:  SVC(C=10, gamma=1, kernel='linear')\n",
            "Accracy score:  0.9111111111111111\n"
          ]
        }
      ]
    },
    {
      "cell_type": "markdown",
      "source": [
        "*  1.2. Apply **GridSearchCV** for **kNN** to find the best hyperparameters using the following param_grid.\n",
        "\n",
        "```\n",
        "grid_params = { 'n_neighbors' : [5,7,9,11,13,15],\n",
        "               'weights' : ['uniform','distance'],\n",
        "               'metric' : ['minkowski','euclidean','manhattan']}\n",
        "```\n",
        "where\n",
        "\n",
        "    *  **n_neighbors**: Decide the best k based on the values we have computed earlier.\n",
        "    *  **weights**: Check whether adding weights to the data points is beneficial to the model or not. 'uniform' assigns no weight, while 'distance' weighs points by the inverse of their distances meaning nearer points will have more weight than the farther points.\n",
        "    *  **metric**: The distance metric to be used will calculating the similarity.\n"
      ],
      "metadata": {
        "id": "2g--8cng53sY"
      }
    },
    {
      "cell_type": "code",
      "source": [
        "knn_grid_params = { 'n_neighbors' : [5,7,9,11,13,15],\n",
        "               'weights' : ['uniform','distance'],\n",
        "               'metric' : ['minkowski','euclidean','manhattan']}"
      ],
      "metadata": {
        "id": "RiJ4idoDMded"
      },
      "execution_count": null,
      "outputs": []
    },
    {
      "cell_type": "code",
      "source": [
        "clf_kNN = KNeighborsClassifier();\n",
        "grid_search_kNN = GridSearchCV(clf_kNN, knn_grid_params, cv=5,n_jobs=-1, verbose=1)\n",
        "grid_search_kNN.fit(X_train, y_train);\n",
        "y_pred_kNN = grid_search_kNN.predict(X_test);\n",
        "\n",
        "accuracy_kNN = metrics.accuracy_score(y_test, y_pred_kNN);\n",
        "grid_search_kNN_best_estimator = grid_search_kNN.best_estimator_\n",
        "\n",
        "print(\"Best estimator svm: \", grid_search_kNN_best_estimator)\n",
        "print(\"Accracy score: \", accuracy_kNN)"
      ],
      "metadata": {
        "id": "fX0_kItYPism",
        "colab": {
          "base_uri": "https://localhost:8080/"
        },
        "outputId": "84632217-a990-4579-adad-caab93a473ba"
      },
      "execution_count": null,
      "outputs": [
        {
          "output_type": "stream",
          "name": "stdout",
          "text": [
            "Fitting 5 folds for each of 36 candidates, totalling 180 fits\n",
            "Best estimator svm:  KNeighborsClassifier(n_neighbors=9)\n",
            "Accracy score:  0.9333333333333333\n"
          ]
        }
      ]
    },
    {
      "cell_type": "markdown",
      "source": [
        "*  1.3. Apply **GridSearchCV** for **Random Forest** to find the best hyperparameters using the following param_grid.\n",
        "\n",
        "```\n",
        "param_grid = {\n",
        "    'n_estimators': [25, 50, 100, 150],\n",
        "    'max_features': ['sqrt', 'log2', None],\n",
        "    'max_depth': [3, 6, 9],\n",
        "    'max_leaf_nodes': [3, 6, 9],\n",
        "}\n",
        "```"
      ],
      "metadata": {
        "id": "3lQSOcjL_TIW"
      }
    },
    {
      "cell_type": "code",
      "source": [
        "random_forest_param_grid = {\n",
        "    'n_estimators': [25, 50, 100, 150],\n",
        "    'max_features': ['sqrt', 'log2', None],\n",
        "    'max_depth': [3, 6, 9],\n",
        "    'max_leaf_nodes': [3, 6, 9],\n",
        "}"
      ],
      "metadata": {
        "id": "SwF_flvANJUB"
      },
      "execution_count": null,
      "outputs": []
    },
    {
      "cell_type": "code",
      "source": [
        "clf_random_forest = RandomForestClassifier();\n",
        "grid_search_random_forest = GridSearchCV(clf_random_forest, random_forest_param_grid, cv=5, n_jobs=-1)\n",
        "grid_search_random_forest.fit(X_train, y_train);\n",
        "y_pred_random_forest = grid_search_random_forest.predict(X_test);\n",
        "\n",
        "accuracy_random_forest = metrics.accuracy_score(y_test, y_pred_random_forest);\n",
        "accuracy_random_forest_best_estimator = grid_search_random_forest.best_estimator_\n",
        "\n",
        "print(\"Best estimator svm: \", accuracy_random_forest_best_estimator)\n",
        "print(\"Accracy score: \", accuracy_random_forest)"
      ],
      "metadata": {
        "id": "OlyF9WpN_01p",
        "colab": {
          "base_uri": "https://localhost:8080/"
        },
        "outputId": "7654f21a-d4bd-4589-9e7c-0b4b3a0cd00e"
      },
      "execution_count": null,
      "outputs": [
        {
          "output_type": "stream",
          "name": "stdout",
          "text": [
            "Best estimator svm:  RandomForestClassifier(max_depth=6, max_leaf_nodes=3, n_estimators=50)\n",
            "Accracy score:  0.9555555555555556\n"
          ]
        }
      ]
    },
    {
      "cell_type": "markdown",
      "source": [
        "*   1.4 Compare the best obtained results from 1.1 to 1.3 (use PrettyTable to dispaly the results)"
      ],
      "metadata": {
        "id": "G3N7TD7s_3Kp"
      }
    },
    {
      "cell_type": "code",
      "source": [
        "table = PrettyTable([\"Grid Search Algo\", \"Accuracy\"])\n",
        "table.add_row([grid_search_svm_best_estimator, accuracy_svm])\n",
        "table.add_row([grid_search_kNN_best_estimator, accuracy_kNN])\n",
        "table.add_row([accuracy_random_forest_best_estimator, accuracy_random_forest])\n",
        "print(table)"
      ],
      "metadata": {
        "id": "eQDvofm3MfUJ",
        "colab": {
          "base_uri": "https://localhost:8080/"
        },
        "outputId": "5818cbbd-34f3-4d43-d39a-353187d821ae"
      },
      "execution_count": null,
      "outputs": [
        {
          "output_type": "stream",
          "name": "stdout",
          "text": [
            "+------------------------------------------------------------------------+--------------------+\n",
            "|                            Grid Search Algo                            |      Accuracy      |\n",
            "+------------------------------------------------------------------------+--------------------+\n",
            "|                  SVC(C=10, gamma=1, kernel='linear')                   | 0.9415204678362573 |\n",
            "|                  KNeighborsClassifier(n_neighbors=9)                   | 0.9064327485380117 |\n",
            "| RandomForestClassifier(max_depth=9, max_leaf_nodes=9, n_estimators=50) | 0.9590643274853801 |\n",
            "+------------------------------------------------------------------------+--------------------+\n"
          ]
        }
      ]
    },
    {
      "cell_type": "markdown",
      "source": [
        "#Task 2.\n",
        "For breast cancer dataset (https://tinyurl.com/3vme8hr3) which could be loaded from datasets in sklearn as follows:\n",
        "\n",
        "```\n",
        "#Import scikit-learn dataset library\n",
        "from sklearn import datasets\n",
        "\n",
        "#Load dataset\n",
        "cancer = datasets.load_breast_cancer()\n",
        "```\n",
        "\n",
        "*   Apply **GridSearchCV** to different classification algorithms such as **SVM, kNN, LogisticRegression, RandomForest**.\n",
        "*   Compare the results obtained by the best hyperparameters among classification algorithms."
      ],
      "metadata": {
        "id": "kNv07ARGzOUm"
      }
    },
    {
      "cell_type": "markdown",
      "source": [
        "*   2.1. Apply **GridSearchCV** to **SVM**\n"
      ],
      "metadata": {
        "id": "pnoVB8J4vV36"
      }
    },
    {
      "cell_type": "code",
      "source": [
        "#dataset\n",
        "cancer = datasets.load_breast_cancer()"
      ],
      "metadata": {
        "id": "mNfWyTv8V_g_"
      },
      "execution_count": null,
      "outputs": []
    },
    {
      "cell_type": "code",
      "source": [
        "# code\n",
        "X = cancer.data\n",
        "y = cancer.target\n",
        "\n",
        "X_train, X_test, y_train, y_test = train_test_split(X, y, test_size = 0.3);\n",
        "\n",
        "grid_search_svm.fit(X_train, y_train);\n",
        "y_pred_svm = grid_search_svm.predict(X_test);\n",
        "\n",
        "cancer_accuracy_svm = metrics.accuracy_score(y_test, y_pred_svm);\n",
        "cancer_svm_best_estimator = grid_search_svm.best_estimator_\n",
        "\n",
        "print(\"Best estimator svm: \", cancer_svm_best_estimator)\n",
        "print(\"Accracy score: \", cancer_accuracy_svm)"
      ],
      "metadata": {
        "id": "-ZTSvsJdvYqI",
        "colab": {
          "base_uri": "https://localhost:8080/"
        },
        "outputId": "29326679-0c58-4e63-b8fc-3adfe9e8d274"
      },
      "execution_count": null,
      "outputs": [
        {
          "output_type": "stream",
          "name": "stdout",
          "text": [
            "Fitting 5 folds for each of 50 candidates, totalling 250 fits\n",
            "Best estimator svm:  SVC(C=10, gamma=1, kernel='linear')\n",
            "Accracy score:  0.935672514619883\n"
          ]
        }
      ]
    },
    {
      "cell_type": "markdown",
      "source": [
        "*   2.2. Apply **GridSearchCV** to **kNN**"
      ],
      "metadata": {
        "id": "ol1U_T_NvcqV"
      }
    },
    {
      "cell_type": "code",
      "source": [
        "#code\n",
        "grid_search_kNN.fit(X_train, y_train);\n",
        "y_pred_kNN = grid_search_kNN.predict(X_test);\n",
        "\n",
        "cancer_accuracy_kNN = metrics.accuracy_score(y_test, y_pred_kNN);\n",
        "cancer_kNN_best_estimator = grid_search_kNN.best_estimator_\n",
        "\n",
        "print(\"Best estimator svm: \", cancer_kNN_best_estimator)\n",
        "print(\"Accracy score: \", cancer_accuracy_kNN)"
      ],
      "metadata": {
        "id": "kt71yrAoBwYE",
        "colab": {
          "base_uri": "https://localhost:8080/"
        },
        "outputId": "1f151589-958a-4064-ddb2-ac967167f236"
      },
      "execution_count": null,
      "outputs": [
        {
          "output_type": "stream",
          "name": "stdout",
          "text": [
            "Fitting 5 folds for each of 36 candidates, totalling 180 fits\n",
            "Best estimator svm:  KNeighborsClassifier(metric='manhattan')\n",
            "Accracy score:  0.9707602339181286\n"
          ]
        }
      ]
    },
    {
      "cell_type": "markdown",
      "source": [
        "*   2.3. Apply **GridSearchCV** to **LogisticRegression**"
      ],
      "metadata": {
        "id": "pPkAvse-BxNa"
      }
    },
    {
      "cell_type": "code",
      "source": [
        "LR_param_grid = {\n",
        "    'C': [0.001, 0.01, 0.1]\n",
        "}"
      ],
      "metadata": {
        "id": "keFK7yLke32r"
      },
      "execution_count": null,
      "outputs": []
    },
    {
      "cell_type": "code",
      "source": [
        "#code\n",
        "clf_LR = LogisticRegression(max_iter=1000)\n",
        "grid_search_LR = GridSearchCV(clf_LR, LR_param_grid, cv=5, n_jobs=-1)\n",
        "\n",
        "grid_search_LR.fit(X_train, y_train);\n",
        "y_pred_LR = grid_search_LR.predict(X_test);\n",
        "\n",
        "cancer_accuracy_LR = metrics.accuracy_score(y_test, y_pred_LR);\n",
        "cancer_LR_best_estimator = grid_search_LR.best_estimator_\n",
        "\n",
        "print(\"Best estimator svm: \", cancer_LR_best_estimator)\n",
        "print(\"Accracy score: \", cancer_accuracy_LR)"
      ],
      "metadata": {
        "id": "nyYjpHFbB1Ci",
        "colab": {
          "base_uri": "https://localhost:8080/"
        },
        "outputId": "2e10c036-c884-4022-c97c-9a32df2c1aac"
      },
      "execution_count": null,
      "outputs": [
        {
          "output_type": "stream",
          "name": "stdout",
          "text": [
            "Best estimator svm:  LogisticRegression(C=0.1, max_iter=1000)\n",
            "Accracy score:  0.9415204678362573\n"
          ]
        }
      ]
    },
    {
      "cell_type": "markdown",
      "source": [
        "*   2.4. Apply **GridSearchCV** to **RandomForest**"
      ],
      "metadata": {
        "id": "3NjSLo5jB1xY"
      }
    },
    {
      "cell_type": "code",
      "source": [
        "#code\n",
        "grid_search_random_forest.fit(X_train, y_train);\n",
        "y_pred_random_forest = grid_search_random_forest.predict(X_test);\n",
        "\n",
        "cancer_accuracy_random_forest = metrics.accuracy_score(y_test, y_pred_random_forest);\n",
        "cancer_random_forest_best_estimator = grid_search_random_forest.best_estimator_\n",
        "\n",
        "print(\"Best estimator svm: \", cancer_random_forest_best_estimator)\n",
        "print(\"Accracy score: \", cancer_accuracy_random_forest)"
      ],
      "metadata": {
        "id": "nktGtM0PB7XB",
        "colab": {
          "base_uri": "https://localhost:8080/"
        },
        "outputId": "3e359c80-31a5-425e-b07e-ab625315dc61"
      },
      "execution_count": null,
      "outputs": [
        {
          "output_type": "stream",
          "name": "stdout",
          "text": [
            "Best estimator svm:  RandomForestClassifier(max_depth=6, max_leaf_nodes=9)\n",
            "Accracy score:  0.9473684210526315\n"
          ]
        }
      ]
    },
    {
      "cell_type": "markdown",
      "source": [
        "*   2.5. Compare the best obtained results among classification algorithms (use PrettyTable to dispaly the results)"
      ],
      "metadata": {
        "id": "NZJ3BSHpB9Dx"
      }
    },
    {
      "cell_type": "code",
      "source": [
        "#code\n",
        "\n",
        "table_2 = PrettyTable([\"Grid Search Algo\", \"Accuracy\"])\n",
        "table_2.add_row([cancer_svm_best_estimator, cancer_accuracy_svm])\n",
        "table_2.add_row([cancer_kNN_best_estimator, cancer_accuracy_kNN])\n",
        "table_2.add_row([cancer_LR_best_estimator, cancer_accuracy_LR])\n",
        "table_2.add_row([cancer_random_forest_best_estimator, cancer_accuracy_random_forest])\n",
        "print(table_2)"
      ],
      "metadata": {
        "id": "8LS_IYfNCFEj",
        "colab": {
          "base_uri": "https://localhost:8080/"
        },
        "outputId": "22552384-eebe-4612-9ec1-29397b9c8022"
      },
      "execution_count": null,
      "outputs": [
        {
          "output_type": "stream",
          "name": "stdout",
          "text": [
            "+-------------------------------------------------------+--------------------+\n",
            "|                    Grid Search Algo                   |      Accuracy      |\n",
            "+-------------------------------------------------------+--------------------+\n",
            "|          SVC(C=10, gamma=1, kernel='linear')          | 0.935672514619883  |\n",
            "|        KNeighborsClassifier(metric='manhattan')       | 0.9707602339181286 |\n",
            "|        LogisticRegression(C=0.1, max_iter=1000)       | 0.9415204678362573 |\n",
            "| RandomForestClassifier(max_depth=6, max_leaf_nodes=9) | 0.9473684210526315 |\n",
            "+-------------------------------------------------------+--------------------+\n"
          ]
        }
      ]
    },
    {
      "cell_type": "markdown",
      "source": [
        "#Task 3. With **mobile price classification** dataset\n",
        "* 3.1.  Apply **GridSearchCV** for **SVM, kNN, RandomForest** algorithms to find the best hyperparameters for each classification algorithm.\n",
        "* 3.2. Compare the best obtained results among classification algorithms (use PrettyTable to dispaly the results)"
      ],
      "metadata": {
        "id": "az26oYW1Yxuz"
      }
    },
    {
      "cell_type": "code",
      "source": [
        "from google.colab import drive\n",
        "drive.mount('/content/gdrive')\n",
        "%cd '/content/gdrive/MyDrive/ML/lab6'"
      ],
      "metadata": {
        "colab": {
          "base_uri": "https://localhost:8080/"
        },
        "id": "aOVXYYV48ckO",
        "outputId": "f292c35c-b802-4f24-f363-72e3c7413ae9"
      },
      "execution_count": null,
      "outputs": [
        {
          "output_type": "stream",
          "name": "stdout",
          "text": [
            "/content/gdrive/MyDrive/ML/lab6\n"
          ]
        }
      ]
    },
    {
      "cell_type": "code",
      "source": [
        "mobile = pd.read_csv('mobile.csv')\n",
        "X = mobile.drop(columns='price_range')\n",
        "y = mobile['price_range']\n",
        "\n",
        "X_train, X_test, y_train, y_test = train_test_split(X, y, test_size=0.2)\n",
        "\n",
        "classifiers = {\n",
        "    'SVM': (svm.SVC(), param_grid_svm),\n",
        "    'kNN': (KNeighborsClassifier(), knn_grid_params),\n",
        "    'Random Forest': (RandomForestClassifier(), random_forest_param_grid)\n",
        "}\n",
        "\n",
        "results = {}\n",
        "\n",
        "for name, (clf, params) in classifiers.items():\n",
        "    grid_search = GridSearchCV(clf, params, cv=5, n_jobs=-1, verbose=1)\n",
        "    grid_search.fit(X_train, y_train)\n",
        "    y_pred = grid_search.predict(X_test)\n",
        "    accuracy = metrics.accuracy_score(y_test, y_pred)\n",
        "    best_estimator = grid_search.best_estimator_\n",
        "    results[name] = {'best_estimator': best_estimator, 'accuracy': accuracy}\n",
        "\n",
        "# Print results\n",
        "table_3 = PrettyTable([\"Grid Search Algo\", \"Accuracy\"])\n",
        "for algo, result in results.items():\n",
        "    table_3.add_row([result['best_estimator'], result['accuracy']])\n",
        "print(table_3)"
      ],
      "metadata": {
        "id": "_jsYpiNYWxXK",
        "colab": {
          "base_uri": "https://localhost:8080/"
        },
        "outputId": "cfbd8974-91b7-4de2-f589-3d3859b50c40"
      },
      "execution_count": null,
      "outputs": [
        {
          "output_type": "stream",
          "name": "stdout",
          "text": [
            "Fitting 5 folds for each of 50 candidates, totalling 250 fits\n",
            "Fitting 5 folds for each of 36 candidates, totalling 180 fits\n",
            "Fitting 5 folds for each of 108 candidates, totalling 540 fits\n",
            "+----------------------------------------------------------------------------+----------+\n",
            "|                              Grid Search Algo                              | Accuracy |\n",
            "+----------------------------------------------------------------------------+----------+\n",
            "|                     SVC(C=1, gamma=1, kernel='linear')                     |  0.965   |\n",
            "|          KNeighborsClassifier(n_neighbors=13, weights='distance')          |  0.935   |\n",
            "| RandomForestClassifier(max_depth=9, max_features='log2', max_leaf_nodes=9, |  0.7825  |\n",
            "|                                         n_estimators=50)                   |          |\n",
            "+----------------------------------------------------------------------------+----------+\n"
          ]
        }
      ]
    },
    {
      "cell_type": "markdown",
      "source": [
        "#Task 4.\n",
        "The dataset consists of **2000 user-created movie reviews** archived on the IMDb(Internet Movie Database). The reviews are equally partitioned into a positive set and a negative set (1000+1000). Each review consists of a plain text file (.txt) and a class label representing the overall user opinion.\n",
        "The class attribute has only two values: **pos** (positive) or **neg** (negative).\n"
      ],
      "metadata": {
        "id": "b52OPWPD2afi"
      }
    },
    {
      "cell_type": "markdown",
      "source": [
        "*   4.1 Importing additional libraries"
      ],
      "metadata": {
        "id": "lDcxOQRmDz_h"
      }
    },
    {
      "cell_type": "code",
      "source": [
        "import nltk, random\n",
        "nltk.download('movie_reviews')#download movie reviews dataset\n",
        "from nltk.corpus import movie_reviews\n",
        "import pandas as pd\n",
        "import matplotlib.pyplot as plt\n",
        "import numpy as np\n",
        "from sklearn.model_selection import cross_val_score\n",
        "from collections import Counter\n",
        "from sklearn.model_selection import train_test_split"
      ],
      "metadata": {
        "id": "ZjyW06skDwvL",
        "colab": {
          "base_uri": "https://localhost:8080/"
        },
        "outputId": "f5e54f97-b146-43df-a6c0-8d472aafaddd"
      },
      "execution_count": null,
      "outputs": [
        {
          "output_type": "stream",
          "name": "stderr",
          "text": [
            "[nltk_data] Downloading package movie_reviews to /root/nltk_data...\n",
            "[nltk_data]   Unzipping corpora/movie_reviews.zip.\n"
          ]
        }
      ]
    },
    {
      "cell_type": "markdown",
      "source": [
        "*   4.2. Movie reviews information"
      ],
      "metadata": {
        "id": "RJpsTIiyv-1h"
      }
    },
    {
      "cell_type": "code",
      "source": [
        "#code\n",
        "print(len(movie_reviews.fileids()))\n",
        "print(movie_reviews.categories())\n",
        "print(movie_reviews.words()[:100])\n",
        "print(movie_reviews.fileids()[:10])"
      ],
      "metadata": {
        "id": "5ZE7A0Au1Pg0",
        "colab": {
          "base_uri": "https://localhost:8080/"
        },
        "outputId": "135c5f50-a0d0-4d7c-94a3-c74c7381b30e"
      },
      "execution_count": null,
      "outputs": [
        {
          "output_type": "stream",
          "name": "stdout",
          "text": [
            "2000\n",
            "['neg', 'pos']\n",
            "['plot', ':', 'two', 'teen', 'couples', 'go', 'to', ...]\n",
            "['neg/cv000_29416.txt', 'neg/cv001_19502.txt', 'neg/cv002_17424.txt', 'neg/cv003_12683.txt', 'neg/cv004_12641.txt', 'neg/cv005_29357.txt', 'neg/cv006_17022.txt', 'neg/cv007_4992.txt', 'neg/cv008_29326.txt', 'neg/cv009_29417.txt']\n"
          ]
        }
      ]
    },
    {
      "cell_type": "markdown",
      "source": [
        "*   4.3. Create dataset from movie reviews"
      ],
      "metadata": {
        "id": "6pHmMpqMHS23"
      }
    },
    {
      "cell_type": "code",
      "source": [
        "documents = [(list(movie_reviews.words(fileid)), category)\n",
        "             for category in movie_reviews.categories()\n",
        "             for fileid in movie_reviews.fileids(category)]\n",
        "random.seed(123)\n",
        "random.shuffle(documents)"
      ],
      "metadata": {
        "id": "45aY6woMHSH5"
      },
      "execution_count": null,
      "outputs": []
    },
    {
      "cell_type": "code",
      "source": [
        "print('Number of Reviews/Documents: {}'.format(len(documents)))\n",
        "print('Corpus Size (words): {}'.format(np.sum([len(d) for (d,l) in documents])))\n",
        "print('Sample Text of Doc 1:')\n",
        "print('-'*30)\n",
        "print(' '.join(documents[0][0][:50])) # first 50 words of the first document"
      ],
      "metadata": {
        "id": "NNke0Da5HqFa",
        "colab": {
          "base_uri": "https://localhost:8080/"
        },
        "outputId": "15f817b4-8feb-40f7-b6af-0ef893dda93a"
      },
      "execution_count": null,
      "outputs": [
        {
          "output_type": "stream",
          "name": "stdout",
          "text": [
            "Number of Reviews/Documents: 2000\n",
            "Corpus Size (words): 1583820\n",
            "Sample Text of Doc 1:\n",
            "------------------------------\n",
            "most movies seem to release a third movie just so it can be called a trilogy . rocky iii seems to kind of fit in that category , but manages to be slightly unique . the rocky formula of \" rocky loses fight / rocky trains / rocky wins fight\n"
          ]
        }
      ]
    },
    {
      "cell_type": "code",
      "source": [
        "sentiment_distr = Counter([label for (words, label) in documents])\n",
        "print(sentiment_distr)"
      ],
      "metadata": {
        "id": "vVFUEhnXHsGd",
        "colab": {
          "base_uri": "https://localhost:8080/"
        },
        "outputId": "ea896ea1-b888-4f99-e970-d29d19f55e3d"
      },
      "execution_count": null,
      "outputs": [
        {
          "output_type": "stream",
          "name": "stdout",
          "text": [
            "Counter({'pos': 1000, 'neg': 1000})\n"
          ]
        }
      ]
    },
    {
      "cell_type": "markdown",
      "source": [
        "*   4.4. Train test split"
      ],
      "metadata": {
        "id": "jTXiEbMzHgVC"
      }
    },
    {
      "cell_type": "code",
      "source": [
        "train, test = train_test_split(documents, test_size = 0.33, random_state=42)"
      ],
      "metadata": {
        "id": "v_-0gZZFHvJN"
      },
      "execution_count": null,
      "outputs": []
    },
    {
      "cell_type": "code",
      "source": [
        "## Sentiment Distrubtion for Train and Test\n",
        "print(Counter([label for (words, label) in train]))\n",
        "print(Counter([label for (words, label) in test]))"
      ],
      "metadata": {
        "id": "UUGlm5TGHvpV",
        "colab": {
          "base_uri": "https://localhost:8080/"
        },
        "outputId": "1a758133-be6c-43be-e2fb-90ee79d9f996"
      },
      "execution_count": null,
      "outputs": [
        {
          "output_type": "stream",
          "name": "stdout",
          "text": [
            "Counter({'neg': 674, 'pos': 666})\n",
            "Counter({'pos': 334, 'neg': 326})\n"
          ]
        }
      ]
    },
    {
      "cell_type": "code",
      "source": [
        "X_train = [' '.join(words) for (words, label) in train]\n",
        "X_test = [' '.join(words) for (words, label) in test]\n",
        "y_train = [label for (words, label) in train]\n",
        "y_test = [label for (words, label) in test]"
      ],
      "metadata": {
        "id": "l1ppl_0RHx1P"
      },
      "execution_count": null,
      "outputs": []
    },
    {
      "cell_type": "markdown",
      "source": [
        "*   4.5. Text Vectorization"
      ],
      "metadata": {
        "id": "7xUaXrjxH6Ee"
      }
    },
    {
      "cell_type": "code",
      "source": [
        "from sklearn.feature_extraction.text import CountVectorizer, TfidfVectorizer\n",
        "\n",
        "tfidf_vec = TfidfVectorizer(min_df = 10, token_pattern = r'[a-zA-Z]+')\n",
        "X_train_bow = tfidf_vec.fit_transform(X_train) # fit train\n",
        "X_test_bow = tfidf_vec.transform(X_test) # transform test"
      ],
      "metadata": {
        "id": "fzwM0nsIH-8l"
      },
      "execution_count": null,
      "outputs": []
    },
    {
      "cell_type": "markdown",
      "source": [
        "*   4.6. Apply **SVM** with **GridSearchCV**"
      ],
      "metadata": {
        "id": "BP1vB3loIF28"
      }
    },
    {
      "cell_type": "code",
      "source": [
        "\n",
        "clf_SVC = svm.SVC()\n",
        "grid_search_svm = GridSearchCV(clf_SVC, param_grid_svm, cv=5, n_jobs=-1, verbose=1)\n",
        "grid_search_svm.fit(X_train_bow, y_train);\n",
        "\n",
        "y_pred_svm = grid_search_svm.predict(X_test_bow);\n",
        "accuracy_svm = metrics.accuracy_score(y_test, y_pred_svm);\n",
        "grid_search_svm_best_estimator = grid_search_svm.best_estimator_\n",
        "\n",
        "print(\"Best estimator svm: \", grid_search_svm_best_estimator)\n",
        "print(\"Accracy score: \", accuracy_svm)"
      ],
      "metadata": {
        "id": "b3FHQqh1Hlrd",
        "colab": {
          "base_uri": "https://localhost:8080/"
        },
        "outputId": "68d09e5f-d10c-4502-bf66-eaf756259d7f"
      },
      "execution_count": null,
      "outputs": [
        {
          "output_type": "stream",
          "name": "stdout",
          "text": [
            "Fitting 5 folds for each of 50 candidates, totalling 250 fits\n",
            "Best estimator svm:  SVC(C=10, gamma=0.1)\n",
            "Accracy score:  0.8121212121212121\n"
          ]
        }
      ]
    },
    {
      "cell_type": "markdown",
      "source": [
        "*   4.7. Apply **RandomForest** with **GridSearchCV**"
      ],
      "metadata": {
        "id": "N1Fy8jYBIdxi"
      }
    },
    {
      "cell_type": "code",
      "source": [
        "clf_random_forest = RandomForestClassifier();\n",
        "grid_search_random_forest = GridSearchCV(clf_random_forest, random_forest_param_grid, cv=5, n_jobs=-1)\n",
        "grid_search_random_forest.fit(X_train_bow, y_train);\n",
        "y_pred_random_forest = grid_search_random_forest.predict(X_test_bow);\n",
        "\n",
        "accuracy_random_forest = metrics.accuracy_score(y_test, y_pred_random_forest);\n",
        "random_forest_best_estimator = grid_search_random_forest.best_estimator_\n",
        "\n",
        "print(\"Best estimator svm: \", accuracy_random_forest_best_estimator)\n",
        "print(\"Accracy score: \", accuracy_random_forest)"
      ],
      "metadata": {
        "id": "Fyfw2R-gIhWl",
        "colab": {
          "base_uri": "https://localhost:8080/"
        },
        "outputId": "e1289c11-87d7-4395-b28d-9216fd96a0bc"
      },
      "execution_count": null,
      "outputs": [
        {
          "output_type": "stream",
          "name": "stdout",
          "text": [
            "Best estimator svm:  RandomForestClassifier(max_depth=9, max_leaf_nodes=9, n_estimators=50)\n",
            "Accracy score:  0.7636363636363637\n"
          ]
        }
      ]
    },
    {
      "cell_type": "markdown",
      "source": [
        "*   4.8. Apply **kNN** with **GridSearchCV**"
      ],
      "metadata": {
        "id": "_btsVKjIIiLT"
      }
    },
    {
      "cell_type": "code",
      "source": [
        "clf_kNN = KNeighborsClassifier();\n",
        "grid_search_kNN = GridSearchCV(clf_kNN, knn_grid_params, cv=5,n_jobs=-1, verbose=1)\n",
        "grid_search_kNN.fit(X_train_bow, y_train);\n",
        "y_pred_kNN = grid_search_kNN.predict(X_test_bow);\n",
        "\n",
        "accuracy_kNN = metrics.accuracy_score(y_test, y_pred_kNN);\n",
        "grid_search_kNN_best_estimator = grid_search_kNN.best_estimator_\n",
        "\n",
        "print(\"Best estimator kNN: \", grid_search_kNN_best_estimator)\n",
        "print(\"Accracy score: \", accuracy_kNN)"
      ],
      "metadata": {
        "id": "IZmFu1ZQImhn",
        "colab": {
          "base_uri": "https://localhost:8080/"
        },
        "outputId": "bcc67e47-115c-421e-bf5c-bb2967b13a70"
      },
      "execution_count": null,
      "outputs": [
        {
          "output_type": "stream",
          "name": "stdout",
          "text": [
            "Fitting 5 folds for each of 36 candidates, totalling 180 fits\n",
            "Best estimator kNN:  KNeighborsClassifier(metric='manhattan', n_neighbors=15, weights='distance')\n",
            "Accracy score:  0.6393939393939394\n"
          ]
        }
      ]
    },
    {
      "cell_type": "markdown",
      "source": [
        "*   4.9. Apply **LogisticRegression** with **GridSearchCV**"
      ],
      "metadata": {
        "id": "0Ix_HeVGIvDu"
      }
    },
    {
      "cell_type": "code",
      "source": [
        "clf_LR = LogisticRegression(max_iter=1000)\n",
        "grid_search_LR = GridSearchCV(clf_LR, LR_param_grid, cv=5, n_jobs=-1)\n",
        "\n",
        "grid_search_LR.fit(X_train_bow, y_train);\n",
        "y_pred_LR = grid_search_LR.predict(X_test_bow);\n",
        "\n",
        "accuracy_LR = metrics.accuracy_score(y_test, y_pred_LR);\n",
        "LR_best_estimator = grid_search_LR.best_estimator_\n",
        "\n",
        "print(\"Best estimator Logistic Regression: \", cancer_LR_best_estimator)\n",
        "print(\"Accracy score: \", accuracy_LR)"
      ],
      "metadata": {
        "id": "sTd3alCMIr-i",
        "colab": {
          "base_uri": "https://localhost:8080/"
        },
        "outputId": "75828a3a-a993-483d-d00e-e9182679fe90"
      },
      "execution_count": null,
      "outputs": [
        {
          "output_type": "stream",
          "name": "stdout",
          "text": [
            "Best estimator Logistic Regression:  LogisticRegression(C=0.1, max_iter=1000)\n",
            "Accracy score:  0.7348484848484849\n"
          ]
        }
      ]
    },
    {
      "cell_type": "markdown",
      "source": [
        "*   4.10. Compare the best obtained results among classification algorithms (use PrettyTable to dispaly the results)"
      ],
      "metadata": {
        "id": "nhYF2y6eI058"
      }
    },
    {
      "cell_type": "code",
      "source": [
        "table_4 = PrettyTable([\"Grid Search Algo\", \"Accuracy\"])\n",
        "table_4.add_row([grid_search_svm_best_estimator, accuracy_svm])\n",
        "table_4.add_row([accuracy_random_forest_best_estimator, accuracy_random_forest])\n",
        "table_4.add_row([grid_search_kNN_best_estimator, accuracy_kNN])\n",
        "table_4.add_row([cancer_LR_best_estimator, accuracy_LR])\n",
        "print(table_4)"
      ],
      "metadata": {
        "colab": {
          "base_uri": "https://localhost:8080/"
        },
        "id": "NCJZ6oCpNO61",
        "outputId": "dfbd9dac-02b5-4132-b4ae-a5eb2cc28bc9"
      },
      "execution_count": null,
      "outputs": [
        {
          "output_type": "stream",
          "name": "stdout",
          "text": [
            "+------------------------------------------------------------------------------+--------------------+\n",
            "|                               Grid Search Algo                               |      Accuracy      |\n",
            "+------------------------------------------------------------------------------+--------------------+\n",
            "|                             SVC(C=10, gamma=0.1)                             | 0.8121212121212121 |\n",
            "|    RandomForestClassifier(max_depth=9, max_leaf_nodes=9, n_estimators=50)    | 0.7636363636363637 |\n",
            "| KNeighborsClassifier(metric='manhattan', n_neighbors=15, weights='distance') | 0.6393939393939394 |\n",
            "|                   LogisticRegression(C=0.1, max_iter=1000)                   | 0.7348484848484849 |\n",
            "+------------------------------------------------------------------------------+--------------------+\n"
          ]
        }
      ]
    },
    {
      "cell_type": "markdown",
      "source": [
        "#Finally,\n",
        "Save a copy in your Github. Remember renaming the notebook."
      ],
      "metadata": {
        "id": "Ok7RGkea_b7n"
      }
    }
  ]
}
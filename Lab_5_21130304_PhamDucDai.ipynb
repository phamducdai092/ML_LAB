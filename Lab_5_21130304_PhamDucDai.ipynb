{
  "nbformat": 4,
  "nbformat_minor": 0,
  "metadata": {
    "colab": {
      "provenance": [],
      "include_colab_link": true
    },
    "kernelspec": {
      "name": "python3",
      "display_name": "Python 3"
    },
    "language_info": {
      "name": "python"
    }
  },
  "cells": [
    {
      "cell_type": "markdown",
      "metadata": {
        "id": "view-in-github",
        "colab_type": "text"
      },
      "source": [
        "<a href=\"https://colab.research.google.com/github/phamducdai092/ML_LAB/blob/main/Lab_5_21130304_PhamDucDai.ipynb\" target=\"_parent\"><img src=\"https://colab.research.google.com/assets/colab-badge.svg\" alt=\"Open In Colab\"/></a>"
      ]
    },
    {
      "cell_type": "markdown",
      "source": [
        "# This lab is to deal with **SVM** to classification tasks and compare its performance with other competitive algorithms. In general, **SVM** is one of the most popular and widely used supervised machine learning algorithms.\n",
        "\n",
        "*   **Deadline: 23:59, 08/04/2024**\n",
        "\n"
      ],
      "metadata": {
        "id": "LMzehe0sy5wr"
      }
    },
    {
      "cell_type": "code",
      "source": [
        "from google.colab import drive\n",
        "drive.mount('/content/gdrive')\n",
        "%cd '/content/gdrive/MyDrive/ML/lab5'"
      ],
      "metadata": {
        "id": "L5JsNZAUsdI4",
        "colab": {
          "base_uri": "https://localhost:8080/"
        },
        "outputId": "c7ce6d6d-8077-4b98-bff9-f675a703b409"
      },
      "execution_count": 1,
      "outputs": [
        {
          "output_type": "stream",
          "name": "stdout",
          "text": [
            "Mounted at /content/gdrive\n",
            "/content/gdrive/MyDrive/ML/lab5\n"
          ]
        }
      ]
    },
    {
      "cell_type": "markdown",
      "source": [
        "# Import libraries"
      ],
      "metadata": {
        "id": "H4nJmxp9zGX4"
      }
    },
    {
      "cell_type": "code",
      "execution_count": 2,
      "metadata": {
        "id": "DoVWQ8AEyc-C",
        "colab": {
          "base_uri": "https://localhost:8080/"
        },
        "outputId": "8f438ef0-60cc-474e-c5ef-8f76b6011e9a"
      },
      "outputs": [
        {
          "output_type": "stream",
          "name": "stdout",
          "text": [
            "Populating the interactive namespace from numpy and matplotlib\n"
          ]
        },
        {
          "output_type": "stream",
          "name": "stderr",
          "text": [
            "/usr/local/lib/python3.10/dist-packages/IPython/core/magics/pylab.py:159: UserWarning: pylab import has clobbered these variables: ['plt']\n",
            "`%matplotlib` prevents importing * from pylab and numpy\n",
            "  warn(\"pylab import has clobbered these variables: %s\"  % clobbered +\n"
          ]
        }
      ],
      "source": [
        "# code\n",
        "import numpy as np\n",
        "import pandas as pd\n",
        "import matplotlib.pyplot as plt\n",
        "import seaborn as sns\n",
        "import seaborn as sns\n",
        "import matplotlib.ticker as ticker\n",
        "from sklearn import metrics\n",
        "from sklearn.model_selection import train_test_split\n",
        "import matplotlib.pylab as plt\n",
        "from sklearn import svm\n",
        "from sklearn.neighbors import KNeighborsClassifier\n",
        "from sklearn.linear_model import LinearRegression,LogisticRegression\n",
        "from sklearn.tree import DecisionTreeClassifier\n",
        "from sklearn.metrics import classification_report, confusion_matrix\n",
        "from prettytable import PrettyTable\n",
        "from sklearn.metrics import accuracy_score\n",
        "from sklearn.metrics import precision_score\n",
        "from sklearn.metrics import recall_score\n",
        "from sklearn.metrics import f1_score\n",
        "\n",
        "%pylab inline\n",
        "#%run Utils.ipynb\n",
        "# Warnings configuration\n",
        "# ==============================================================================\n",
        "import warnings\n",
        "# warnings.filterwarnings('ignore')\n"
      ]
    },
    {
      "cell_type": "markdown",
      "source": [
        "#Task 1.\n",
        "For **breast cancer** dataset (https://tinyurl.com/3vme8hr3) which could be loaded from datasets in sklearn as follows:\n",
        "\n",
        "```\n",
        "#Import scikit-learn dataset library\n",
        "from sklearn import datasets\n",
        "\n",
        "#Load dataset\n",
        "cancer = datasets.load_breast_cancer()\n",
        "```\n",
        "\n",
        "*   1.1.\tApply **SVM algorithm** to above dataset using linear kernel.\n",
        "*   1.2.\tCompare the obtained results with other competitive algorithms (**Logistic Regression, Decision Tree, kNN**) based on metrics: accuracy, precision, recall, f1 measures.\n",
        "\n"
      ],
      "metadata": {
        "id": "kNv07ARGzOUm"
      }
    },
    {
      "cell_type": "code",
      "source": [
        "# code\n",
        "# Import scikit-learn dataset library\n",
        "from sklearn import datasets\n",
        "# Load dataset\n",
        "cancer = datasets.load_breast_cancer()\n",
        "\n",
        "X = cancer.data\n",
        "y = cancer.target\n",
        "\n",
        "X_train, X_test, y_train, y_test = train_test_split(X, y, test_size=0.3, random_state=42)\n",
        "\n",
        "models = {\n",
        "    'svm': svm.SVC(kernel='linear'),\n",
        "    'log_reg': LogisticRegression(),\n",
        "    'tree': DecisionTreeClassifier(),\n",
        "    'kNN': KNeighborsClassifier()\n",
        "}\n",
        "\n",
        "# Create PrettyTable\n",
        "table = PrettyTable()\n",
        "table.field_names = [\"Model\", \"Accuracy\", \"Precision\", \"Recall\", \"F1 Score\"]\n",
        "\n",
        "for name, model in models.items():\n",
        "    model.fit(X_train, y_train)\n",
        "    y_pred = model.predict(X_test)\n",
        "    accuracy = metrics.accuracy_score(y_test, y_pred)\n",
        "    precision = metrics.precision_score(y_test, y_pred, average='macro')\n",
        "    recall = metrics.recall_score(y_test, y_pred, average='macro')\n",
        "    f1 = metrics.f1_score(y_test, y_pred, average='macro')\n",
        "    table.add_row([name, accuracy, precision, recall, f1])\n",
        "\n",
        "print(table)"
      ],
      "metadata": {
        "id": "sOsg77IBzEyo",
        "colab": {
          "base_uri": "https://localhost:8080/"
        },
        "outputId": "ec6ba5da-9487-4158-ced5-0a30511cdced"
      },
      "execution_count": 3,
      "outputs": [
        {
          "output_type": "stream",
          "name": "stderr",
          "text": [
            "/usr/local/lib/python3.10/dist-packages/sklearn/linear_model/_logistic.py:458: ConvergenceWarning: lbfgs failed to converge (status=1):\n",
            "STOP: TOTAL NO. of ITERATIONS REACHED LIMIT.\n",
            "\n",
            "Increase the number of iterations (max_iter) or scale the data as shown in:\n",
            "    https://scikit-learn.org/stable/modules/preprocessing.html\n",
            "Please also refer to the documentation for alternative solver options:\n",
            "    https://scikit-learn.org/stable/modules/linear_model.html#logistic-regression\n",
            "  n_iter_i = _check_optimize_result(\n"
          ]
        },
        {
          "output_type": "stream",
          "name": "stdout",
          "text": [
            "+---------+--------------------+--------------------+--------------------+--------------------+\n",
            "|  Model  |      Accuracy      |     Precision      |       Recall       |      F1 Score      |\n",
            "+---------+--------------------+--------------------+--------------------+--------------------+\n",
            "|   svm   | 0.9649122807017544 | 0.965424739195231  | 0.9589947089947091 | 0.962044983722995  |\n",
            "| log_reg | 0.9707602339181286 | 0.9736486486486486 | 0.9636243386243386 | 0.9682592716338123 |\n",
            "|   tree  | 0.9181286549707602 | 0.9087973593570609 | 0.9186507936507936 | 0.9131349782293178 |\n",
            "|   kNN   | 0.9590643274853801 | 0.9648306377784559 | 0.9477513227513228 | 0.955237276092891  |\n",
            "+---------+--------------------+--------------------+--------------------+--------------------+\n"
          ]
        }
      ]
    },
    {
      "cell_type": "markdown",
      "source": [
        "#Task 2.\n",
        "\n",
        "*   2.1.\tPerform SVM algorithm to **Iris dataset** using **linear kernel**.\n",
        "*   2.2.\tCompare the obtained results in task 2.1 with **SVM** using other kernels (**Polynomial Kernel, Sigmoid Kernel, Radial Basis Function Kernel**). Some metrics could be used: **accuracy, precision, recall, f1** measures\n"
      ],
      "metadata": {
        "id": "S43IoUT-0OQq"
      }
    },
    {
      "cell_type": "code",
      "source": [
        "# code\n",
        "from sklearn import datasets\n",
        "iris = datasets.load_iris();\n",
        "\n",
        "X = cancer.data\n",
        "y = cancer.target\n",
        "\n",
        "X_train, X_test, y_train, y_test = train_test_split(X, y, test_size = 0.3)\n",
        "\n",
        "kernels = ['linear', 'poly', 'sigmoid', 'rbf']\n",
        "metrics_functions = [metrics.accuracy_score, metrics.precision_score, metrics.recall_score, metrics.f1_score]\n",
        "\n",
        "table = PrettyTable()\n",
        "table.field_names = [\"Model\", \"Accuracy\", \"Precision\", \"Recall\", \"F1 Score\"]\n",
        "\n",
        "for kernel in kernels:\n",
        "    svm_clf = svm.SVC(kernel=kernel)\n",
        "    svm_clf.fit(X_train, y_train)\n",
        "    y_pred = svm_clf.predict(X_test)\n",
        "    metrics_values = []\n",
        "    for metric in metrics_functions:\n",
        "        if metric == metrics.accuracy_score:\n",
        "            metrics_values.append(metric(y_test, y_pred))\n",
        "        else:\n",
        "            metrics_values.append(metric(y_test, y_pred, average='macro'))\n",
        "    table.add_row([\"SVM ({})\".format(kernel)] + metrics_values)\n",
        "\n",
        "print(table)"
      ],
      "metadata": {
        "id": "_xhPpF5b033h",
        "colab": {
          "base_uri": "https://localhost:8080/"
        },
        "outputId": "2f02e041-4bb5-40c9-ee27-551f423daf15"
      },
      "execution_count": 4,
      "outputs": [
        {
          "output_type": "stream",
          "name": "stdout",
          "text": [
            "+---------------+--------------------+--------------------+--------------------+---------------------+\n",
            "|     Model     |      Accuracy      |     Precision      |       Recall       |       F1 Score      |\n",
            "+---------------+--------------------+--------------------+--------------------+---------------------+\n",
            "|  SVM (linear) | 0.935672514619883  | 0.9298245614035088 | 0.9261519682636559 |  0.9279448381536104 |\n",
            "|   SVM (poly)  | 0.935672514619883  | 0.9556451612903225 | 0.9051724137931034 |  0.9244122965641952 |\n",
            "| SVM (sigmoid) | 0.3508771929824561 | 0.3285416666666666 | 0.311641745498932  | 0.31715652768284347 |\n",
            "|   SVM (rbf)   | 0.9415204678362573 | 0.959349593495935  | 0.9137931034482758 |  0.9316437480012791 |\n",
            "+---------------+--------------------+--------------------+--------------------+---------------------+\n"
          ]
        }
      ]
    },
    {
      "cell_type": "markdown",
      "source": [
        "#Task 3.\n",
        "Compare the performance of selected classification algorithms (**Decision Tree, kNN, Logistic Regression**) and **SVM** (using different kernels) with **FASHION** dataset based on **accuracy, precision, recall, f1** measures.\n"
      ],
      "metadata": {
        "id": "b52OPWPD2afi"
      }
    },
    {
      "cell_type": "code",
      "source": [
        "# code\n",
        "fashion_train = pd.read_csv('fashion_train.csv');\n",
        "fashion_test = pd.read_csv('fashion_test.csv');\n",
        "\n",
        "X_train = fashion_train.drop(columns=\"y\");\n",
        "y_train = fashion_train[[\"y\"]];\n",
        "X_test = fashion_test.drop(columns=\"y\");\n",
        "y_test = fashion_test[[\"y\"]];\n",
        "\n",
        "models = {\n",
        "    'log_reg': LogisticRegression(),\n",
        "    'tree': DecisionTreeClassifier(),\n",
        "    'kNN': KNeighborsClassifier()\n",
        "}\n",
        "\n",
        "# Create PrettyTable\n",
        "table = PrettyTable()\n",
        "table.field_names = [\"Model\", \"Accuracy\", \"Precision\", \"Recall\", \"F1 Score\"]\n",
        "\n",
        "for name, model in models.items():\n",
        "    model.fit(X_train, y_train)\n",
        "    y_pred = model.predict(X_test)\n",
        "    accuracy = metrics.accuracy_score(y_test, y_pred)\n",
        "    precision = metrics.precision_score(y_test, y_pred, average='macro')\n",
        "    recall = metrics.recall_score(y_test, y_pred, average='macro')\n",
        "    f1 = metrics.f1_score(y_test, y_pred, average='macro')\n",
        "    table.add_row([name, accuracy, precision, recall, f1])\n",
        "\n",
        "kernels = ['linear', 'poly', 'sigmoid', 'rbf']\n",
        "metrics_functions = [metrics.accuracy_score, metrics.precision_score, metrics.recall_score, metrics.f1_score]\n",
        "\n",
        "for kernel in kernels:\n",
        "    svm_clf = svm.SVC(kernel=kernel)\n",
        "    svm_clf.fit(X_train, y_train)\n",
        "    y_pred = svm_clf.predict(X_test)\n",
        "    metrics_values = []\n",
        "    for metric in metrics_functions:\n",
        "        if metric == metrics.accuracy_score:\n",
        "            metrics_values.append(metric(y_test, y_pred))\n",
        "        else:\n",
        "            metrics_values.append(metric(y_test, y_pred, average='macro'))\n",
        "    table.add_row([\"SVM ({})\".format(kernel)] + metrics_values)\n",
        "print(table)"
      ],
      "metadata": {
        "id": "lIBwJBICEnT5",
        "colab": {
          "base_uri": "https://localhost:8080/"
        },
        "outputId": "caf0dd66-9739-4801-9360-a911218d6fbb"
      },
      "execution_count": 5,
      "outputs": [
        {
          "output_type": "stream",
          "name": "stderr",
          "text": [
            "/usr/local/lib/python3.10/dist-packages/sklearn/utils/validation.py:1143: DataConversionWarning: A column-vector y was passed when a 1d array was expected. Please change the shape of y to (n_samples, ), for example using ravel().\n",
            "  y = column_or_1d(y, warn=True)\n",
            "/usr/local/lib/python3.10/dist-packages/sklearn/linear_model/_logistic.py:458: ConvergenceWarning: lbfgs failed to converge (status=1):\n",
            "STOP: TOTAL NO. of ITERATIONS REACHED LIMIT.\n",
            "\n",
            "Increase the number of iterations (max_iter) or scale the data as shown in:\n",
            "    https://scikit-learn.org/stable/modules/preprocessing.html\n",
            "Please also refer to the documentation for alternative solver options:\n",
            "    https://scikit-learn.org/stable/modules/linear_model.html#logistic-regression\n",
            "  n_iter_i = _check_optimize_result(\n",
            "/usr/local/lib/python3.10/dist-packages/sklearn/neighbors/_classification.py:215: DataConversionWarning: A column-vector y was passed when a 1d array was expected. Please change the shape of y to (n_samples,), for example using ravel().\n",
            "  return self._fit(X, y)\n",
            "/usr/local/lib/python3.10/dist-packages/sklearn/utils/validation.py:1143: DataConversionWarning: A column-vector y was passed when a 1d array was expected. Please change the shape of y to (n_samples, ), for example using ravel().\n",
            "  y = column_or_1d(y, warn=True)\n",
            "/usr/local/lib/python3.10/dist-packages/sklearn/utils/validation.py:1143: DataConversionWarning: A column-vector y was passed when a 1d array was expected. Please change the shape of y to (n_samples, ), for example using ravel().\n",
            "  y = column_or_1d(y, warn=True)\n",
            "/usr/local/lib/python3.10/dist-packages/sklearn/utils/validation.py:1143: DataConversionWarning: A column-vector y was passed when a 1d array was expected. Please change the shape of y to (n_samples, ), for example using ravel().\n",
            "  y = column_or_1d(y, warn=True)\n",
            "/usr/local/lib/python3.10/dist-packages/sklearn/utils/validation.py:1143: DataConversionWarning: A column-vector y was passed when a 1d array was expected. Please change the shape of y to (n_samples, ), for example using ravel().\n",
            "  y = column_or_1d(y, warn=True)\n"
          ]
        },
        {
          "output_type": "stream",
          "name": "stdout",
          "text": [
            "+---------------+----------+--------------------+--------------------+--------------------+\n",
            "|     Model     | Accuracy |     Precision      |       Recall       |      F1 Score      |\n",
            "+---------------+----------+--------------------+--------------------+--------------------+\n",
            "|    log_reg    |   0.79   | 0.7907843568009236 | 0.7884189213627213 | 0.7877669566391123 |\n",
            "|      tree     |  0.667   | 0.6676893773681307 | 0.6651375076485617 | 0.6643614361432962 |\n",
            "|      kNN      |  0.761   | 0.7769873089533864 |  0.76181486566761  | 0.7569379032729887 |\n",
            "|  SVM (linear) |  0.809   | 0.8117729613602249 | 0.8080638899207333 | 0.8054464844513045 |\n",
            "|   SVM (poly)  |  0.747   | 0.7622399866233962 | 0.7442901360474709 | 0.7457242413882829 |\n",
            "| SVM (sigmoid) |  0.394   | 0.4538437282083073 | 0.3964375751137075 | 0.3891539162597036 |\n",
            "|   SVM (rbf)   |  0.812   | 0.8070229601657756 | 0.8098864991670668 | 0.8068213516036611 |\n",
            "+---------------+----------+--------------------+--------------------+--------------------+\n"
          ]
        }
      ]
    },
    {
      "cell_type": "markdown",
      "source": [],
      "metadata": {
        "id": "EG35fRzOsulu"
      }
    },
    {
      "cell_type": "markdown",
      "source": [
        "#Task 4.\n",
        "For a given mobile price classification dataset with the following information:\n",
        "\n",
        "*   **Attributes**: 'battery_power', 'blue', 'clock_speed', 'dual_sim', 'fc', 'four_g', 'int_memory', 'm_dep', 'mobile_wt', 'n_cores', 'pc', 'px_height',\n",
        "       'px_width', 'ram', 'sc_h', 'sc_w', 'talk_time', 'three_g',     'touch_screen', 'wifi'\n",
        "*   **class label**: ***price_range*** (0,1,2,3)\n",
        "\n"
      ],
      "metadata": {
        "id": "Z5pp7_h-aP2u"
      }
    },
    {
      "cell_type": "markdown",
      "source": [
        "#Task 4.1.\n",
        "Compare the performance of selected classification algorithms (**Decision Tree, kNN, Logistic Regression**) and **SVM** (using different kernels) with **mobile price classification** based on **accuracy, precision, recall, f1** measures."
      ],
      "metadata": {
        "id": "I348UU6nHjGl"
      }
    },
    {
      "cell_type": "code",
      "source": [
        "# code\n",
        "mobile_train = pd.read_csv('mobile_train.csv');\n",
        "\n",
        "X = mobile_train.drop(columns='price_range');\n",
        "y = mobile_train[['price_range']];\n",
        "\n",
        "X_train, X_test, y_train, y_test = train_test_split(X, y, test_size=0.2);\n",
        "\n",
        "models = {\n",
        "    'log_reg': LogisticRegression(),\n",
        "    'tree': DecisionTreeClassifier(),\n",
        "    'kNN': KNeighborsClassifier()\n",
        "}\n",
        "\n",
        "# Create PrettyTable\n",
        "table = PrettyTable()\n",
        "table.field_names = [\"Model\", \"Accuracy\", \"Precision\", \"Recall\", \"F1 Score\"]\n",
        "\n",
        "for name, model in models.items():\n",
        "    model.fit(X_train, y_train)\n",
        "    y_pred = model.predict(X_test)\n",
        "    accuracy = metrics.accuracy_score(y_test, y_pred)\n",
        "    precision = metrics.precision_score(y_test, y_pred, average='macro')\n",
        "    recall = metrics.recall_score(y_test, y_pred, average='macro')\n",
        "    f1 = metrics.f1_score(y_test, y_pred, average='macro')\n",
        "    table.add_row([name, accuracy, precision, recall, f1])\n",
        "\n",
        "kernels = ['linear', 'poly', 'sigmoid', 'rbf']\n",
        "metrics_functions = [metrics.accuracy_score, metrics.precision_score, metrics.recall_score, metrics.f1_score]\n",
        "\n",
        "for kernel in kernels:\n",
        "    svm_clf = svm.SVC(kernel=kernel)\n",
        "    svm_clf.fit(X_train, y_train)\n",
        "    y_pred = svm_clf.predict(X_test)\n",
        "    metrics_values = []\n",
        "    for metric in metrics_functions:\n",
        "        if metric == metrics.accuracy_score:\n",
        "            metrics_values.append(metric(y_test, y_pred))\n",
        "        else:\n",
        "            metrics_values.append(metric(y_test, y_pred, average='macro'))\n",
        "    table.add_row([\"SVM ({})\".format(kernel)] + metrics_values)\n",
        "print(table)"
      ],
      "metadata": {
        "id": "Rw_-8FIf2KxW",
        "colab": {
          "base_uri": "https://localhost:8080/"
        },
        "outputId": "889427e1-0c12-4d70-a9a8-c50070930b2f"
      },
      "execution_count": 9,
      "outputs": [
        {
          "output_type": "stream",
          "name": "stderr",
          "text": [
            "/usr/local/lib/python3.10/dist-packages/sklearn/utils/validation.py:1143: DataConversionWarning: A column-vector y was passed when a 1d array was expected. Please change the shape of y to (n_samples, ), for example using ravel().\n",
            "  y = column_or_1d(y, warn=True)\n",
            "/usr/local/lib/python3.10/dist-packages/sklearn/linear_model/_logistic.py:458: ConvergenceWarning: lbfgs failed to converge (status=1):\n",
            "STOP: TOTAL NO. of ITERATIONS REACHED LIMIT.\n",
            "\n",
            "Increase the number of iterations (max_iter) or scale the data as shown in:\n",
            "    https://scikit-learn.org/stable/modules/preprocessing.html\n",
            "Please also refer to the documentation for alternative solver options:\n",
            "    https://scikit-learn.org/stable/modules/linear_model.html#logistic-regression\n",
            "  n_iter_i = _check_optimize_result(\n",
            "/usr/local/lib/python3.10/dist-packages/sklearn/neighbors/_classification.py:215: DataConversionWarning: A column-vector y was passed when a 1d array was expected. Please change the shape of y to (n_samples,), for example using ravel().\n",
            "  return self._fit(X, y)\n",
            "/usr/local/lib/python3.10/dist-packages/sklearn/utils/validation.py:1143: DataConversionWarning: A column-vector y was passed when a 1d array was expected. Please change the shape of y to (n_samples, ), for example using ravel().\n",
            "  y = column_or_1d(y, warn=True)\n",
            "/usr/local/lib/python3.10/dist-packages/sklearn/utils/validation.py:1143: DataConversionWarning: A column-vector y was passed when a 1d array was expected. Please change the shape of y to (n_samples, ), for example using ravel().\n",
            "  y = column_or_1d(y, warn=True)\n",
            "/usr/local/lib/python3.10/dist-packages/sklearn/utils/validation.py:1143: DataConversionWarning: A column-vector y was passed when a 1d array was expected. Please change the shape of y to (n_samples, ), for example using ravel().\n",
            "  y = column_or_1d(y, warn=True)\n"
          ]
        },
        {
          "output_type": "stream",
          "name": "stdout",
          "text": [
            "+---------------+----------+---------------------+---------------------+--------------------+\n",
            "|     Model     | Accuracy |      Precision      |        Recall       |      F1 Score      |\n",
            "+---------------+----------+---------------------+---------------------+--------------------+\n",
            "|    log_reg    |  0.6025  |  0.6102036209309675 |  0.6015169665652097 | 0.6044332571094821 |\n",
            "|      tree     |  0.8175  |  0.8145583066832105 |  0.8183289858031568 | 0.8148484001653016 |\n",
            "|      kNN      |  0.9275  |  0.9276058201058202 |  0.9261431963254374 | 0.9262337124948513 |\n",
            "|  SVM (linear) |  0.965   |  0.9655267356041788 |  0.9640745884053399 | 0.9646762343922821 |\n",
            "|   SVM (poly)  |  0.9525  |  0.9548052295577047 |  0.9519585726004922 | 0.9519397591505689 |\n",
            "| SVM (sigmoid) |   0.18   | 0.18967181657639526 | 0.18672075842931257 | 0.187978975414071  |\n",
            "|   SVM (rbf)   |  0.9525  |  0.9562513118138908 |  0.949890980527611  | 0.9511399404245311 |\n",
            "+---------------+----------+---------------------+---------------------+--------------------+\n"
          ]
        },
        {
          "output_type": "stream",
          "name": "stderr",
          "text": [
            "/usr/local/lib/python3.10/dist-packages/sklearn/metrics/_classification.py:1344: UndefinedMetricWarning: Precision is ill-defined and being set to 0.0 in labels with no predicted samples. Use `zero_division` parameter to control this behavior.\n",
            "  _warn_prf(average, modifier, msg_start, len(result))\n",
            "/usr/local/lib/python3.10/dist-packages/sklearn/utils/validation.py:1143: DataConversionWarning: A column-vector y was passed when a 1d array was expected. Please change the shape of y to (n_samples, ), for example using ravel().\n",
            "  y = column_or_1d(y, warn=True)\n"
          ]
        }
      ]
    },
    {
      "cell_type": "markdown",
      "source": [
        "#Task 4.2.\n",
        "Predict class label for test set using the best model found in task 4.1"
      ],
      "metadata": {
        "id": "TY35jiORHPJh"
      }
    },
    {
      "cell_type": "code",
      "source": [
        "#code\n",
        "\n",
        "mobile_test = pd.read_csv('mobile_test.csv');\n",
        "X_test = mobile_test.drop(columns='id');\n",
        "\n",
        "best_model = svm.SVC(kernel='linear')\n",
        "best_model.fit(X_train, y_train)\n",
        "mobile_y_pred = best_model.predict(X_test);\n",
        "print(mobile_y_pred)"
      ],
      "metadata": {
        "id": "z_irQuKyHtdP",
        "colab": {
          "base_uri": "https://localhost:8080/"
        },
        "outputId": "ec29c96d-a652-4ea4-dd61-21fcceffe56e"
      },
      "execution_count": 11,
      "outputs": [
        {
          "output_type": "stream",
          "name": "stderr",
          "text": [
            "/usr/local/lib/python3.10/dist-packages/sklearn/utils/validation.py:1143: DataConversionWarning: A column-vector y was passed when a 1d array was expected. Please change the shape of y to (n_samples, ), for example using ravel().\n",
            "  y = column_or_1d(y, warn=True)\n"
          ]
        },
        {
          "output_type": "stream",
          "name": "stdout",
          "text": [
            "[3 3 2 3 1 3 3 1 3 0 3 3 0 0 2 0 2 1 3 2 1 3 1 1 3 0 2 0 3 0 2 0 3 0 0 1 3\n",
            " 1 2 1 1 2 0 0 0 1 0 3 1 2 1 0 2 0 3 1 3 1 1 3 3 3 0 1 1 1 2 3 1 2 1 2 2 3\n",
            " 3 0 2 0 2 3 0 3 3 0 3 0 3 1 3 0 1 2 2 1 2 2 1 2 1 3 1 0 0 3 0 2 0 1 2 3 3\n",
            " 3 1 3 3 3 3 2 3 0 0 3 2 1 2 0 3 2 2 1 0 2 2 1 3 1 1 0 3 2 1 2 1 2 2 3 3 3\n",
            " 2 3 2 3 1 0 3 2 3 3 3 3 2 2 3 3 3 3 1 0 3 0 0 0 2 1 0 1 0 0 1 2 1 0 0 1 1\n",
            " 2 2 1 0 0 0 1 0 3 1 0 2 2 3 3 1 2 2 2 3 2 2 1 1 0 1 2 0 2 2 3 0 2 0 3 2 3\n",
            " 3 1 0 1 0 3 0 1 0 2 2 1 3 1 3 0 3 1 2 0 0 2 1 3 3 3 1 1 3 0 0 2 3 3 1 3 1\n",
            " 1 3 2 1 2 3 3 3 1 0 1 2 3 1 1 3 2 0 3 0 1 2 0 0 3 2 3 3 2 1 3 3 2 3 1 2 1\n",
            " 2 0 2 3 1 0 0 3 0 3 0 1 2 0 2 3 1 3 2 2 1 2 0 0 0 1 3 2 0 0 0 3 2 0 2 3 1\n",
            " 2 2 2 3 1 3 3 2 2 2 3 3 0 3 0 3 1 3 1 2 3 0 1 0 3 1 3 2 3 0 0 0 0 2 0 0 2\n",
            " 2 1 2 2 2 0 1 0 0 3 2 0 3 1 2 2 1 2 3 1 1 2 2 1 2 0 1 1 0 3 2 0 0 1 0 0 1\n",
            " 1 0 0 0 2 2 3 2 3 0 3 0 3 0 1 1 0 2 0 3 2 3 3 1 3 1 3 1 3 2 0 1 2 1 1 0 0\n",
            " 0 1 2 1 0 3 2 0 2 2 0 0 3 1 2 0 2 3 3 0 3 0 2 3 2 3 0 2 0 2 3 0 1 1 0 0 1\n",
            " 1 1 3 3 3 2 3 1 2 2 3 3 3 2 0 2 1 2 2 1 0 2 2 0 0 0 3 1 0 2 2 2 0 3 1 2 2\n",
            " 1 3 0 2 3 0 1 1 3 3 1 1 2 3 2 0 3 1 2 0 3 3 1 2 2 2 3 0 1 2 3 1 3 2 3 1 1\n",
            " 0 0 3 1 0 3 2 3 2 1 3 3 3 2 3 3 1 2 0 2 3 3 1 0 1 1 2 2 2 0 0 2 2 3 2 0 2\n",
            " 1 3 3 0 1 3 0 2 1 1 0 0 2 1 0 1 1 2 2 0 2 2 1 0 3 0 0 3 2 0 0 0 0 0 3 0 3\n",
            " 1 3 2 1 3 3 0 1 1 3 2 2 2 0 3 0 2 0 2 0 1 1 1 1 2 1 3 1 3 2 2 1 3 2 0 2 2\n",
            " 0 3 3 0 2 1 1 2 0 3 2 0 3 2 3 0 0 3 0 2 2 3 2 2 2 2 1 2 3 0 1 0 1 2 1 0 0\n",
            " 1 0 0 3 0 1 2 0 1 1 1 3 0 3 2 3 0 0 1 2 2 1 0 1 2 0 1 1 0 0 3 3 0 3 1 1 3\n",
            " 0 1 0 2 2 0 3 1 0 3 1 1 0 3 3 3 2 3 0 3 2 0 0 0 3 3 2 0 2 1 3 0 0 2 2 0 3\n",
            " 1 2 1 1 2 3 1 1 1 2 1 0 2 2 0 2 0 0 0 0 2 3 3 3 0 1 2 1 1 0 0 2 1 0 2 0 3\n",
            " 2 2 1 2 0 2 1 3 0 0 3 2 3 0 0 2 3 3 1 3 2 1 0 0 3 3 0 3 0 0 0 2 2 1 2 0 3\n",
            " 2 1 2 3 3 0 1 1 2 1 2 2 0 1 3 1 1 3 0 2 3 2 1 1 1 3 3 0 2 3 0 2 3 2 2 2 3\n",
            " 2 0 1 2 1 2 1 1 2 2 2 1 2 1 1 1 3 1 0 1 2 3 1 0 0 3 2 2 3 0 3 2 2 1 3 0 1\n",
            " 3 1 1 1 2 3 2 0 3 0 2 3 0 3 1 3 3 1 0 2 3 1 0 2 1 2 1 2 0 2 2 0 2 3 2 3 0\n",
            " 2 1 1 2 2 3 3 0 2 1 2 1 3 1 1 3 0 1 0 0 3 3 2 0 0 0 0 3 2 3 3 0 0 2 1 0 2\n",
            " 2]\n"
          ]
        }
      ]
    },
    {
      "cell_type": "markdown",
      "source": [
        "#Task 5.\n",
        "\n",
        "*   5.1.\tPerform SVM algorithm to **spambase dataset** using **linear kernel**.\n",
        "*   5.2.\tCompare the obtained results in task 5.1 with **SVM** using other kernels (**Polynomial Kernel, Sigmoid Kernel, Radial Basis Function Kernel**). Some metrics could be used: **accuracy, precision, recall, f1** measures"
      ],
      "metadata": {
        "id": "7SCMLfMfyWPU"
      }
    },
    {
      "cell_type": "code",
      "source": [
        "#code\n",
        "spambase = pd.read_csv('spambase.csv');\n",
        "\n",
        "X = spambase.drop(columns=\"class\")\n",
        "y = spambase[\"class\"]\n",
        "\n",
        "X_train, X_test, y_train, y_test = train_test_split(X, y, test_size=0.2)\n",
        "\n",
        "kernels = ['linear', 'poly', 'sigmoid', 'rbf']\n",
        "metrics_functions = [metrics.accuracy_score, metrics.precision_score, metrics.recall_score, metrics.f1_score]\n",
        "\n",
        "table = PrettyTable()\n",
        "table.field_names = [\"Model\", \"Accuracy\", \"Precision\", \"Recall\", \"F1 Score\"]\n",
        "\n",
        "for kernel in kernels:\n",
        "    svm_clf = svm.SVC(kernel=kernel)\n",
        "    svm_clf.fit(X_train, y_train)\n",
        "    y_pred = svm_clf.predict(X_test)\n",
        "    metrics_values = []\n",
        "    for metric in metrics_functions:\n",
        "        if metric == metrics.accuracy_score:\n",
        "            metrics_values.append(metric(y_test, y_pred))\n",
        "        else:\n",
        "            metrics_values.append(metric(y_test, y_pred, average='macro'))\n",
        "    table.add_row([\"SVM ({})\".format(kernel)] + metrics_values)\n",
        "\n",
        "print(table)"
      ],
      "metadata": {
        "id": "CU4u3CvDyfxg"
      },
      "execution_count": null,
      "outputs": []
    },
    {
      "cell_type": "markdown",
      "source": [
        "#Finally,\n",
        "Save a copy in your Github. Remember renaming the notebook."
      ],
      "metadata": {
        "id": "Ok7RGkea_b7n"
      }
    }
  ]
}